{
 "cells": [
  {
   "cell_type": "code",
   "execution_count": 2,
   "metadata": {},
   "outputs": [],
   "source": [
    "import pandas as pd\n"
   ]
  },
  {
   "cell_type": "code",
   "execution_count": 20,
   "metadata": {},
   "outputs": [],
   "source": [
    "df = pd.read_csv(\"../data/bias_dataset_penalty+disentanglement_6M.tsv\", sep=\"\\t\", names=['query', 'doc_pos', 'doc_neg', 'bias_neg', 'attribute_pos', 'attribute_neg'])"
   ]
  },
  {
   "cell_type": "code",
   "execution_count": 28,
   "metadata": {},
   "outputs": [],
   "source": [
    "df = df[:200000]"
   ]
  },
  {
   "cell_type": "code",
   "execution_count": 29,
   "metadata": {},
   "outputs": [],
   "source": [
    "df_females_pos = df[df[\"attribute_pos\"]==0]\n",
    "df_females_neg = df[df[\"attribute_neg\"]==0]\n",
    "df_males_pos = df[df[\"attribute_pos\"]==1]\n",
    "df_males_neg = df[df[\"attribute_neg\"]==1]"
   ]
  },
  {
   "cell_type": "code",
   "execution_count": 30,
   "metadata": {},
   "outputs": [
    {
     "name": "stdout",
     "output_type": "stream",
     "text": [
      "df_females_pos 100003\n",
      "df_females_neg 22445\n",
      "df_males_pos 99997\n",
      "df_males_neg 177555\n"
     ]
    }
   ],
   "source": [
    "print(\"df_females_pos\", len(df_females_pos))\n",
    "print(\"df_females_neg\", len(df_females_neg))\n",
    "print(\"df_males_pos\", len(df_males_pos))\n",
    "print(\"df_males_neg\", len(df_males_neg))"
   ]
  },
  {
   "cell_type": "code",
   "execution_count": 31,
   "id": "127071bc",
   "metadata": {},
   "outputs": [
    {
     "name": "stdout",
     "output_type": "stream",
     "text": [
      "200000\n",
      "200000\n"
     ]
    }
   ],
   "source": [
    "print(len(df_females_pos)+len(df_males_pos))\n",
    "print(len(df_females_neg)+len(df_males_neg))\n"
   ]
  }
 ],
 "metadata": {
  "kernelspec": {
   "display_name": "Python 3",
   "language": "python",
   "name": "python3"
  },
  "language_info": {
   "codemirror_mode": {
    "name": "ipython",
    "version": 3
   },
   "file_extension": ".py",
   "mimetype": "text/x-python",
   "name": "python",
   "nbconvert_exporter": "python",
   "pygments_lexer": "ipython3",
   "version": "3.8.5"
  }
 },
 "nbformat": 4,
 "nbformat_minor": 5
}
